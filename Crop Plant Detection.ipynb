{
  "nbformat": 4,
  "nbformat_minor": 0,
  "metadata": {
    "colab": {
      "name": "Crop Plant Detection.ipynb",
      "provenance": [],
      "authorship_tag": "ABX9TyMFmtCnVIJrHMcTlM7Fcr0t",
      "include_colab_link": true
    },
    "kernelspec": {
      "name": "python3",
      "display_name": "Python 3"
    },
    "language_info": {
      "name": "python"
    }
  },
  "cells": [
    {
      "cell_type": "markdown",
      "metadata": {
        "id": "view-in-github",
        "colab_type": "text"
      },
      "source": [
        "<a href=\"https://colab.research.google.com/github/SaifuddinGsohan/Crop-Diseases-Detection/blob/main/Crop%20Plant%20Detection.ipynb\" target=\"_parent\"><img src=\"https://colab.research.google.com/assets/colab-badge.svg\" alt=\"Open In Colab\"/></a>"
      ]
    },
    {
      "cell_type": "markdown",
      "metadata": {
        "id": "ksVEFtPBlLBR"
      },
      "source": [
        "# Crop Detection\n",
        "\n",
        "####Group Name : Tech Giant\n",
        "\n",
        "                  NAME                      ID            \n",
        "              S. M. Sohan               173-15-10446      \n",
        "              Md. Monsakib Rahman       173-15-10436       \n"
      ]
    },
    {
      "cell_type": "markdown",
      "metadata": {
        "id": "nUcN0SVeBkO7"
      },
      "source": [
        "##Requirement"
      ]
    },
    {
      "cell_type": "markdown",
      "metadata": {
        "id": "bQIIBvqQgVmD"
      },
      "source": [
        "###Install"
      ]
    },
    {
      "cell_type": "code",
      "metadata": {
        "id": "i9stC2e5alSA"
      },
      "source": [
        "from google.colab import driv\n",
        "drive.mount('/content/drive')"
      ],
      "execution_count": null,
      "outputs": []
    },
    {
      "cell_type": "code",
      "metadata": {
        "id": "6cnbMusrk02O"
      },
      "source": [
        "!pip install tensorflow-gpu"
      ],
      "execution_count": null,
      "outputs": []
    },
    {
      "cell_type": "code",
      "metadata": {
        "id": "QV_WdhC0lhtI"
      },
      "source": [
        "!nvidia-smi"
      ],
      "execution_count": null,
      "outputs": []
    },
    {
      "cell_type": "markdown",
      "metadata": {
        "id": "DR8zY8fpu6q-"
      },
      "source": [
        "###Import"
      ]
    },
    {
      "cell_type": "code",
      "metadata": {
        "id": "8nclWv1hmtUU"
      },
      "source": [
        "import os, sys\n",
        "import numpy as np\n",
        "from matplotlib import pyplot as plt"
      ],
      "execution_count": null,
      "outputs": []
    },
    {
      "cell_type": "code",
      "metadata": {
        "id": "VbZWBF-DgfP5"
      },
      "source": [
        "from glob import glob"
      ],
      "execution_count": null,
      "outputs": []
    },
    {
      "cell_type": "code",
      "metadata": {
        "id": "zB47pocMtTuo"
      },
      "source": [
        "from keras.models import Sequential\n",
        "from keras.layers import Activation, Dropout, Flatten, Dense\n",
        "from keras.preprocessing.image import ImageDataGenerator, array_to_img, img_to_array, load_img\n",
        "from keras.layers import Convolution2D, MaxPooling2D, ZeroPadding2D\n",
        "from keras import optimizers\n",
        "import h5py\n",
        "from PIL import Image"
      ],
      "execution_count": null,
      "outputs": []
    },
    {
      "cell_type": "markdown",
      "metadata": {
        "id": "jKJHIfDRowKj"
      },
      "source": [
        "##Data Analysis"
      ]
    },
    {
      "cell_type": "markdown",
      "metadata": {
        "id": "4ne7Q95IgZTW"
      },
      "source": [
        "###Rearrange images"
      ]
    },
    {
      "cell_type": "code",
      "metadata": {
        "id": "JcCZvWd0o7hM"
      },
      "source": [
        "current_dir = os.getcwd()\n",
        "HOME_DIR = current_dir\n",
        "DATA_HOME_DIR = current_dir+'/content/drive/Shareddrives/FP(DIU)/Tech Giant/Crop diseases Detection/CSE412 Pj/Data'"
      ],
      "execution_count": null,
      "outputs": []
    },
    {
      "cell_type": "markdown",
      "metadata": {
        "id": "EJrEBAKfgZgk"
      },
      "source": [
        "####Banana"
      ]
    },
    {
      "cell_type": "code",
      "metadata": {
        "id": "SEJoIJTFgrWd"
      },
      "source": [
        "g = glob('/content/drive/Shareddrives/FP(DIU)/Tech Giant/Crop diseases Detection/CSE412 Pj/Data/train/Banana/*.jpg')\n",
        "indx = 0\n",
        "for ind, filename in enumerate(g):\n",
        "    try:\n",
        "        os.rename(filename, \"/content/drive/Shareddrives/FP(DIU)/Tech Giant/Crop diseases Detection/CSE412 Pj/Data/train/Banana/Banana_{0}.jpg\".format(ind))\n",
        "        indx += 1\n",
        "    except OSError as e:\n",
        "        print(\"Something is wrong!!\",e)\n",
        "print(indx)"
      ],
      "execution_count": null,
      "outputs": []
    },
    {
      "cell_type": "code",
      "metadata": {
        "id": "tboiREmMhNl2"
      },
      "source": [
        "g = glob('/content/drive/Shareddrives/FP(DIU)/Tech Giant/Crop diseases Detection/CSE412 Pj/Data/train/Banana/*.png')\n",
        "for ind, filename in enumerate(g):\n",
        "    try:\n",
        "        os.rename(filename, \"/content/drive/Shareddrives/FP(DIU)/Tech Giant/Crop diseases Detection/CSE412 Pj/Data/train/Banana/Banana_{0}.png\".format(indx+ind))\n",
        "    except OSError as e:\n",
        "        print(\"Something is wrong!!\",e)"
      ],
      "execution_count": null,
      "outputs": []
    },
    {
      "cell_type": "markdown",
      "metadata": {
        "id": "z5z9wz91gceJ"
      },
      "source": [
        "#####Tast data\n"
      ]
    },
    {
      "cell_type": "code",
      "metadata": {
        "id": "BOa_65fegceL"
      },
      "source": [
        "g = glob('/content/drive/Shareddrives/FP(DIU)/Tech Giant/Crop diseases Detection/CSE412 Pj/Data/test/Banana/*.jpg')\n",
        "indx = 0\n",
        "for ind, filename in enumerate(g):\n",
        "    try:\n",
        "        os.rename(filename, \"/content/drive/Shareddrives/FP(DIU)/Tech Giant/Crop diseases Detection/CSE412 Pj/Data/test/Banana/Banana_{0}.jpg\".format(ind))\n",
        "        indx += 1\n",
        "    except OSError as e:\n",
        "        print(\"Something is wrong!!\",e)\n",
        "print(indx)"
      ],
      "execution_count": null,
      "outputs": []
    },
    {
      "cell_type": "code",
      "metadata": {
        "id": "LTRBAmQRgceO"
      },
      "source": [
        "g = glob('/content/drive/Shareddrives/FP(DIU)/Tech Giant/Crop diseases Detection/CSE412 Pj/Data/test/Banana/*.png')\n",
        "for ind, filename in enumerate(g):\n",
        "    try:\n",
        "        os.rename(filename, \"/content/drive/Shareddrives/FP(DIU)/Tech Giant/Crop diseases Detection/CSE412 Pj/Data/test/Banana/Banana_{0}.png\".format(indx+ind))\n",
        "    except OSError as e:\n",
        "        print(\"Something is wrong!!\",e)"
      ],
      "execution_count": null,
      "outputs": []
    },
    {
      "cell_type": "markdown",
      "metadata": {
        "id": "hwapS6nli8oG"
      },
      "source": [
        "####Cabbage"
      ]
    },
    {
      "cell_type": "code",
      "metadata": {
        "id": "oHfWCHYqjHAG"
      },
      "source": [
        "g = glob('/content/drive/Shareddrives/FP(DIU)/Tech Giant/Crop diseases Detection/CSE412 Pj/Data/train/Cabbage/*.jpg')\n",
        "indx = 0\n",
        "for ind, filename in enumerate(g):\n",
        "    try:\n",
        "        os.rename(filename, \"/content/drive/Shareddrives/FP(DIU)/Tech Giant/Crop diseases Detection/CSE412 Pj/Data/train/Cabbage/Cabbage_{0}.jpg\".format(ind))\n",
        "        indx += 1\n",
        "    except OSError as e:\n",
        "        print(\"Something is wrong!!\",e)\n",
        "print(indx)"
      ],
      "execution_count": null,
      "outputs": []
    },
    {
      "cell_type": "code",
      "metadata": {
        "id": "Uk2ZRo6GjPGD"
      },
      "source": [
        "g = glob('/content/drive/Shareddrives/FP(DIU)/Tech Giant/Crop diseases Detection/CSE412 Pj/Data/train/Cabbage/*.png')\n",
        "for ind, filename in enumerate(g):\n",
        "    try:\n",
        "        os.rename(filename, \"/content/drive/Shareddrives/FP(DIU)/Tech Giant/Crop diseases Detection/CSE412 Pj/Data/train/Cabbage/Cabbage_{0}.png\".format(indx+ind))\n",
        "    except OSError as e:\n",
        "        print(\"Something is wrong!!\",e)"
      ],
      "execution_count": null,
      "outputs": []
    },
    {
      "cell_type": "markdown",
      "metadata": {
        "id": "2lp-qLQ3g3JR"
      },
      "source": [
        "#####Tast data\n"
      ]
    },
    {
      "cell_type": "code",
      "metadata": {
        "id": "TAVfU4L_g3Je"
      },
      "source": [
        "g = glob('/content/drive/Shareddrives/FP(DIU)/Tech Giant/Crop diseases Detection/CSE412 Pj/Data/test/Cabbage/*.jpg')\n",
        "indx = 0\n",
        "for ind, filename in enumerate(g):\n",
        "    try:\n",
        "        os.rename(filename, \"/content/drive/Shareddrives/FP(DIU)/Tech Giant/Crop diseases Detection/CSE412 Pj/Data/test/Cabbage/Cabbage_{0}.jpg\".format(ind))\n",
        "        indx += 1\n",
        "    except OSError as e:\n",
        "        print(\"Something is wrong!!\",e)\n",
        "print(indx)"
      ],
      "execution_count": null,
      "outputs": []
    },
    {
      "cell_type": "code",
      "metadata": {
        "id": "Xcy8PJgVg3Jf"
      },
      "source": [
        "g = glob('/content/drive/Shareddrives/FP(DIU)/Tech Giant/Crop diseases Detection/CSE412 Pj/Data/test/Cabbage/*.png')\n",
        "for ind, filename in enumerate(g):\n",
        "    try:\n",
        "        os.rename(filename, \"/content/drive/Shareddrives/FP(DIU)/Tech Giant/Crop diseases Detection/CSE412 Pj/Data/test/Cabbage/Cabbage_{0}.png\".format(indx+ind))\n",
        "    except OSError as e:\n",
        "        print(\"Something is wrong!!\",e)"
      ],
      "execution_count": null,
      "outputs": []
    },
    {
      "cell_type": "markdown",
      "metadata": {
        "id": "zdBmWTOvjAYa"
      },
      "source": [
        "####Cauliflower"
      ]
    },
    {
      "cell_type": "code",
      "metadata": {
        "id": "gfEHTejvjHgq"
      },
      "source": [
        "g = glob('/content/drive/Shareddrives/FP(DIU)/Tech Giant/Crop diseases Detection/CSE412 Pj/Data/train/Cauliflower/*.jpg')\n",
        "indx = 0\n",
        "for ind, filename in enumerate(g):\n",
        "    try:\n",
        "        os.rename(filename, \"/content/drive/Shareddrives/FP(DIU)/Tech Giant/Crop diseases Detection/CSE412 Pj/Data/train/Cauliflower/Cauliflower_{0}.jpg\".format(ind))\n",
        "        indx += 1\n",
        "    except OSError as e:\n",
        "        print(\"Something is wrong!!\",e)\n",
        "print(indx)"
      ],
      "execution_count": null,
      "outputs": []
    },
    {
      "cell_type": "code",
      "metadata": {
        "id": "HHW_dYAJjPjk"
      },
      "source": [
        "g = glob('/content/drive/Shareddrives/FP(DIU)/Tech Giant/Crop diseases Detection/CSE412 Pj/Data/train/Cauliflower/*.png')\n",
        "for ind, filename in enumerate(g):\n",
        "    try:\n",
        "        os.rename(filename,\"/content/drive/Shareddrives/FP(DIU)/Tech Giant/Crop diseases Detection/CSE412 Pj/Data/train/Cauliflower/Cauliflower_{0}.png\".format(indx+ind))\n",
        "    except OSError as e:\n",
        "        print(\"Something is wrong!!\",e)"
      ],
      "execution_count": null,
      "outputs": []
    },
    {
      "cell_type": "markdown",
      "metadata": {
        "id": "E6XGol9vhCAY"
      },
      "source": [
        "#####Tast data\n"
      ]
    },
    {
      "cell_type": "code",
      "metadata": {
        "id": "rJmVYXXohCAZ"
      },
      "source": [
        "g = glob('/content/drive/Shareddrives/FP(DIU)/Tech Giant/Crop diseases Detection/CSE412 Pj/Data/test/Cauliflower/*.jpg')\n",
        "indx = 0\n",
        "for ind, filename in enumerate(g):\n",
        "    try:\n",
        "        os.rename(filename, \"/content/drive/Shareddrives/FP(DIU)/Tech Giant/Crop diseases Detection/CSE412 Pj/Data/test/Cauliflower/Cauliflower_{0}.jpg\".format(ind))\n",
        "        indx += 1\n",
        "    except OSError as e:\n",
        "        print(\"Something is wrong!!\",e)\n",
        "print(indx)"
      ],
      "execution_count": null,
      "outputs": []
    },
    {
      "cell_type": "code",
      "metadata": {
        "id": "z8QqGEcVhCAa"
      },
      "source": [
        "g = glob('/content/drive/Shareddrives/FP(DIU)/Tech Giant/Crop diseases Detection/CSE412 Pj/Data/test/Cauliflower/*.png')\n",
        "for ind, filename in enumerate(g):\n",
        "    try:\n",
        "        os.rename(filename, \"/content/drive/Shareddrives/FP(DIU)/Tech Giant/Crop diseases Detection/CSE412 Pj/Data/test/Cauliflower/Cauliflower_{0}.png\".format(indx+ind))\n",
        "    except OSError as e:\n",
        "        print(\"Something is wrong!!\",e)"
      ],
      "execution_count": null,
      "outputs": []
    },
    {
      "cell_type": "markdown",
      "metadata": {
        "id": "QFS5m_cWjAqO"
      },
      "source": [
        "####Lemon"
      ]
    },
    {
      "cell_type": "code",
      "metadata": {
        "id": "WLvXdV9DjIB5"
      },
      "source": [
        "g = glob('/content/drive/Shareddrives/FP(DIU)/Tech Giant/Crop diseases Detection/CSE412 Pj/Data/train/Lemon/*.jpg')\n",
        "indx = 0\n",
        "for ind, filename in enumerate(g):\n",
        "    try:\n",
        "        os.rename(filename, \"/content/drive/Shareddrives/FP(DIU)/Tech Giant/Crop diseases Detection/CSE412 Pj/Data/train/Lemon/Lemon_{0}.jpg\".format(ind))\n",
        "        indx += 1\n",
        "    except OSError as e:\n",
        "        print(\"Something is wrong!!\",e)\n",
        "print(indx)"
      ],
      "execution_count": null,
      "outputs": []
    },
    {
      "cell_type": "code",
      "metadata": {
        "id": "u0KPrRNSjQE-"
      },
      "source": [
        "g = glob('/content/drive/Shareddrives/FP(DIU)/Tech Giant/Crop diseases Detection/CSE412 Pj/Data/train/Lemon/*.png')\n",
        "for ind, filename in enumerate(g):\n",
        "    try:\n",
        "        os.rename(filename, \"/content/drive/Shareddrives/FP(DIU)/Tech Giant/Crop diseases Detection/CSE412 Pj/Data/train/Lemon/Lemon_{0}.png\".format(indx+ind))\n",
        "    except OSError as e:\n",
        "        print(\"Something is wrong!!\",e)"
      ],
      "execution_count": null,
      "outputs": []
    },
    {
      "cell_type": "markdown",
      "metadata": {
        "id": "7ognKH4ihDBP"
      },
      "source": [
        "#####Tast data\n"
      ]
    },
    {
      "cell_type": "code",
      "metadata": {
        "id": "I6fxTDAnhDBQ"
      },
      "source": [
        "g = glob('/content/drive/Shareddrives/FP(DIU)/Tech Giant/Crop diseases Detection/CSE412 Pj/Data/test/Lemon/*.jpg')\n",
        "indx = 0\n",
        "for ind, filename in enumerate(g):\n",
        "    try:\n",
        "        os.rename(filename, \"/content/drive/Shareddrives/FP(DIU)/Tech Giant/Crop diseases Detection/CSE412 Pj/Data/test/Lemon/Lemon_{0}.jpg\".format(ind))\n",
        "        indx += 1\n",
        "    except OSError as e:\n",
        "        print(\"Something is wrong!!\",e)\n",
        "print(indx)"
      ],
      "execution_count": null,
      "outputs": []
    },
    {
      "cell_type": "code",
      "metadata": {
        "id": "bhmC7B1hhDBT"
      },
      "source": [
        "g = glob('/content/drive/Shareddrives/FP(DIU)/Tech Giant/Crop diseases Detection/CSE412 Pj/Data/test/Lemon/*.png')\n",
        "for ind, filename in enumerate(g):\n",
        "    try:\n",
        "        os.rename(filename, \"/content/drive/Shareddrives/FP(DIU)/Tech Giant/Crop diseases Detection/CSE412 Pj/Data/test/Lemon/Lemon_{0}.png\".format(indx+ind))\n",
        "    except OSError as e:\n",
        "        print(\"Something is wrong!!\",e)"
      ],
      "execution_count": null,
      "outputs": []
    },
    {
      "cell_type": "markdown",
      "metadata": {
        "id": "_6HaY-TQjBuU"
      },
      "source": [
        "####Papaya"
      ]
    },
    {
      "cell_type": "code",
      "metadata": {
        "id": "OtQk9pqKjIif"
      },
      "source": [
        "g = glob('/content/drive/Shareddrives/FP(DIU)/Tech Giant/Crop diseases Detection/CSE412 Pj/Data/train/Papaya/*.jpg')\n",
        "indx = 0\n",
        "for ind, filename in enumerate(g):\n",
        "    try:\n",
        "        os.rename(filename, \"/content/drive/Shareddrives/FP(DIU)/Tech Giant/Crop diseases Detection/CSE412 Pj/Data/train/Papaya/Papaya_{0}.jpg\".format(ind))\n",
        "        indx += 1\n",
        "    except OSError as e:\n",
        "        print(\"Something is wrong!!\",e)\n",
        "print(indx)"
      ],
      "execution_count": null,
      "outputs": []
    },
    {
      "cell_type": "code",
      "metadata": {
        "id": "38Hz8RMajQhh"
      },
      "source": [
        "g = glob('/content/drive/Shareddrives/FP(DIU)/Tech Giant/Crop diseases Detection/CSE412 Pj/Data/train/Papaya/*.png')\n",
        "for ind, filename in enumerate(g):\n",
        "    try:\n",
        "        os.rename(filename, \"/content/drive/Shareddrives/FP(DIU)/Tech Giant/Crop diseases Detection/CSE412 Pj/Data/train/Papaya/Papaya_{0}.png\".format(indx+ind))\n",
        "    except OSError as e:\n",
        "        print(\"Something is wrong!!\",e)"
      ],
      "execution_count": null,
      "outputs": []
    },
    {
      "cell_type": "markdown",
      "metadata": {
        "id": "kHuueQ01hEEg"
      },
      "source": [
        "#####Tast data\n"
      ]
    },
    {
      "cell_type": "code",
      "metadata": {
        "id": "HBbKPQ4nhEEh"
      },
      "source": [
        "g = glob('/content/drive/Shareddrives/FP(DIU)/Tech Giant/Crop diseases Detection/CSE412 Pj/Data/test/Papaya/*.jpg')\n",
        "indx = 0\n",
        "for ind, filename in enumerate(g):\n",
        "    try:\n",
        "        os.rename(filename, \"/content/drive/Shareddrives/FP(DIU)/Tech Giant/Crop diseases Detection/CSE412 Pj/Data/test/Papaya/Papaya_{0}.jpg\".format(ind))\n",
        "        indx += 1\n",
        "    except OSError as e:\n",
        "        print(\"Something is wrong!!\",e)\n",
        "print(indx)"
      ],
      "execution_count": null,
      "outputs": []
    },
    {
      "cell_type": "code",
      "metadata": {
        "id": "yW4RlbqXhEEi"
      },
      "source": [
        "g = glob('/content/drive/Shareddrives/FP(DIU)/Tech Giant/Crop diseases Detection/CSE412 Pj/Data/test/Papaya/*.png')\n",
        "for ind, filename in enumerate(g):\n",
        "    try:\n",
        "        os.rename(filename, \"/content/drive/Shareddrives/FP(DIU)/Tech Giant/Crop diseases Detection/CSE412 Pj/Data/test/Papaya/Papaya_{0}.png\".format(indx+ind))\n",
        "    except OSError as e:\n",
        "        print(\"Something is wrong!!\",e)"
      ],
      "execution_count": null,
      "outputs": []
    },
    {
      "cell_type": "markdown",
      "metadata": {
        "id": "gvN007vqjB1L"
      },
      "source": [
        "####Potato"
      ]
    },
    {
      "cell_type": "code",
      "metadata": {
        "id": "K-ASqevGjJBe"
      },
      "source": [
        "g = glob('/content/drive/Shareddrives/FP(DIU)/Tech Giant/Crop diseases Detection/CSE412 Pj/Data/train/Potato/*.jpg')\n",
        "indx = 0\n",
        "for ind, filename in enumerate(g):\n",
        "    try:\n",
        "        os.rename(filename, \"/content/drive/Shareddrives/FP(DIU)/Tech Giant/Crop diseases Detection/CSE412 Pj/Data/train/Potato/Potato_{0}.jpg\".format(ind))\n",
        "        indx += 1\n",
        "    except OSError as e:\n",
        "        print(\"Something is wrong!!\",e)\n",
        "print(indx)"
      ],
      "execution_count": null,
      "outputs": []
    },
    {
      "cell_type": "code",
      "metadata": {
        "id": "bvPdB9LwjRRj"
      },
      "source": [
        "g = glob('/content/drive/Shareddrives/FP(DIU)/Tech Giant/Crop diseases Detection/CSE412 Pj/Data/train/Potato/*.png')\n",
        "for ind, filename in enumerate(g):\n",
        "    try:\n",
        "        os.rename(filename, \"/content/drive/Shareddrives/FP(DIU)/Tech Giant/Crop diseases Detection/CSE412 Pj/Data/train/Potato/Potato_{0}.png\".format(indx+ind))\n",
        "    except OSError as e:\n",
        "        print(\"Something is wrong!!\",e)"
      ],
      "execution_count": null,
      "outputs": []
    },
    {
      "cell_type": "markdown",
      "metadata": {
        "id": "v7YFc-mwhFHd"
      },
      "source": [
        "#####Tast data\n"
      ]
    },
    {
      "cell_type": "code",
      "metadata": {
        "id": "lqFkQSvMhFHd"
      },
      "source": [
        "g = glob('/content/drive/Shareddrives/FP(DIU)/Tech Giant/Crop diseases Detection/CSE412 Pj/Data/test/Potato/*.jpg')\n",
        "indx = 0\n",
        "for ind, filename in enumerate(g):\n",
        "    try:\n",
        "        os.rename(filename, \"/content/drive/Shareddrives/FP(DIU)/Tech Giant/Crop diseases Detection/CSE412 Pj/Data/test/Potato/Potato_{0}.jpg\".format(ind))\n",
        "        indx += 1\n",
        "    except OSError as e:\n",
        "        print(\"Something is wrong!!\",e)\n",
        "print(indx)"
      ],
      "execution_count": null,
      "outputs": []
    },
    {
      "cell_type": "code",
      "metadata": {
        "id": "Vqd1lRHEhFHd"
      },
      "source": [
        "g = glob('/content/drive/Shareddrives/FP(DIU)/Tech Giant/Crop diseases Detection/CSE412 Pj/Data/test/Potato/*.png')\n",
        "for ind, filename in enumerate(g):\n",
        "    try:\n",
        "        os.rename(filename, \"/content/drive/Shareddrives/FP(DIU)/Tech Giant/Crop diseases Detection/CSE412 Pj/Data/test/Potato/Potato_{0}.png\".format(indx+ind))\n",
        "    except OSError as e:\n",
        "        print(\"Something is wrong!!\",e)"
      ],
      "execution_count": null,
      "outputs": []
    },
    {
      "cell_type": "markdown",
      "metadata": {
        "id": "n69YREYxjCBX"
      },
      "source": [
        "####Tomato"
      ]
    },
    {
      "cell_type": "code",
      "metadata": {
        "id": "3RY0g6LWjJqH"
      },
      "source": [
        "g = glob('/content/drive/Shareddrives/FP(DIU)/Tech Giant/Crop diseases Detection/CSE412 Pj/Data/train/Tomato/*.jpg')\n",
        "indx = 0\n",
        "for ind, filename in enumerate(g):\n",
        "    try:\n",
        "        os.rename(filename, \"/content/drive/Shareddrives/FP(DIU)/Tech Giant/Crop diseases Detection/CSE412 Pj/Data/train/Tomato/Tomato_{0}.jpg\".format(ind))\n",
        "        indx += 1\n",
        "    except OSError as e:\n",
        "        print(\"Something is wrong!!\",e)\n",
        "print(indx)"
      ],
      "execution_count": null,
      "outputs": []
    },
    {
      "cell_type": "code",
      "metadata": {
        "id": "XfCVf5aKjRtC"
      },
      "source": [
        "g = glob('/content/drive/Shareddrives/FP(DIU)/Tech Giant/Crop diseases Detection/CSE412 Pj/Data/train/Tomato/*.png')\n",
        "for ind, filename in enumerate(g):\n",
        "    try:\n",
        "        os.rename(filename, \"/content/drive/Shareddrives/FP(DIU)/Tech Giant/Crop diseases Detection/CSE412 Pj/Data/train/Tomato/Tomato_{0}.png\".format(indx+ind))\n",
        "    except OSError as e:\n",
        "        print(\"Something is wrong!!\",e)"
      ],
      "execution_count": null,
      "outputs": []
    },
    {
      "cell_type": "markdown",
      "metadata": {
        "id": "N74Qqd-nhGEO"
      },
      "source": [
        "#####Tast data\n"
      ]
    },
    {
      "cell_type": "code",
      "metadata": {
        "id": "RWv969Q7hGEP"
      },
      "source": [
        "g = glob('/content/drive/Shareddrives/FP(DIU)/Tech Giant/Crop diseases Detection/CSE412 Pj/Data/test/Tomato/*.jpg')\n",
        "indx = 0\n",
        "for ind, filename in enumerate(g):\n",
        "    try:\n",
        "        os.rename(filename, \"/content/drive/Shareddrives/FP(DIU)/Tech Giant/Crop diseases Detection/CSE412 Pj/Data/test/Tomato/Tomato_{0}.jpg\".format(ind))\n",
        "        indx += 1\n",
        "    except OSError as e:\n",
        "        print(\"Something is wrong!!\",e)\n",
        "print(indx)"
      ],
      "execution_count": null,
      "outputs": []
    },
    {
      "cell_type": "code",
      "metadata": {
        "id": "69Nj5s3ahGEP"
      },
      "source": [
        "g = glob('/content/drive/Shareddrives/FP(DIU)/Tech Giant/Crop diseases Detection/CSE412 Pj/Data/test/Tomato/*.png')\n",
        "for ind, filename in enumerate(g):\n",
        "    try:\n",
        "        os.rename(filename, \"/content/drive/Shareddrives/FP(DIU)/Tech Giant/Crop diseases Detection/CSE412 Pj/Data/test/Tomato/Tomato_{0}.png\".format(indx+ind))\n",
        "    except OSError as e:\n",
        "        print(\"Something is wrong!!\",e)"
      ],
      "execution_count": null,
      "outputs": []
    },
    {
      "cell_type": "markdown",
      "metadata": {
        "id": "h9yNMloYfH9U"
      },
      "source": [
        "####Calabash"
      ]
    },
    {
      "cell_type": "code",
      "metadata": {
        "id": "dQ-VJ76hfH9X"
      },
      "source": [
        "g = glob('/content/drive/Shareddrives/FP(DIU)/Tech Giant/Crop diseases Detection/CSE412 Pj/Data/train/Calabash/*.jpg')\n",
        "indx = 0\n",
        "for ind, filename in enumerate(g):\n",
        "    try:\n",
        "        os.rename(filename, \"/content/drive/Shareddrives/FP(DIU)/Tech Giant/Crop diseases Detection/CSE412 Pj/Data/train/Calabash/Calabash_{0}.jpg\".format(ind))\n",
        "        indx += 1\n",
        "    except OSError as e:\n",
        "        print(\"Something is wrong!!\",e)\n",
        "print(indx)"
      ],
      "execution_count": null,
      "outputs": []
    },
    {
      "cell_type": "code",
      "metadata": {
        "id": "bUl7ZAKUfH9Y"
      },
      "source": [
        "g = glob('/content/drive/Shareddrives/FP(DIU)/Tech Giant/Crop diseases Detection/CSE412 Pj/Data/train/Calabash/*.png')\n",
        "for ind, filename in enumerate(g):\n",
        "    try:\n",
        "        os.rename(filename, \"/content/drive/Shareddrives/FP(DIU)/Tech Giant/Crop diseases Detection/CSE412 Pj/Data/train/Calabash/Calabash_{0}.png\".format(indx+ind))\n",
        "    except OSError as e:\n",
        "        print(\"Something is wrong!!\",e)"
      ],
      "execution_count": null,
      "outputs": []
    },
    {
      "cell_type": "markdown",
      "metadata": {
        "id": "bkKgg2PEhI4W"
      },
      "source": [
        "#####Tast data\n"
      ]
    },
    {
      "cell_type": "code",
      "metadata": {
        "id": "XGZYWBsAhI4X"
      },
      "source": [
        "g = glob('/content/drive/Shareddrives/FP(DIU)/Tech Giant/Crop diseases Detection/CSE412 Pj/Data/test/Calabash/*.jpg')\n",
        "indx = 0\n",
        "for ind, filename in enumerate(g):\n",
        "    try:\n",
        "        os.rename(filename, \"/content/drive/Shareddrives/FP(DIU)/Tech Giant/Crop diseases Detection/CSE412 Pj/Data/test/Calabash/Calabash_{0}.jpg\".format(ind))\n",
        "        indx += 1\n",
        "    except OSError as e:\n",
        "        print(\"Something is wrong!!\",e)\n",
        "print(indx)"
      ],
      "execution_count": null,
      "outputs": []
    },
    {
      "cell_type": "code",
      "metadata": {
        "id": "91yRry54hI4Y"
      },
      "source": [
        "g = glob('/content/drive/Shareddrives/FP(DIU)/Tech Giant/Crop diseases Detection/CSE412 Pj/Data/test/Calabash/*.png')\n",
        "for ind, filename in enumerate(g):\n",
        "    try:\n",
        "        os.rename(filename, \"/content/drive/Shareddrives/FP(DIU)/Tech Giant/Crop diseases Detection/CSE412 Pj/Data/test/Calabash/Calabash_{0}.png\".format(indx+ind))\n",
        "    except OSError as e:\n",
        "        print(\"Something is wrong!!\",e)"
      ],
      "execution_count": null,
      "outputs": []
    },
    {
      "cell_type": "markdown",
      "metadata": {
        "id": "uvLYGpi_px6W"
      },
      "source": [
        "###Data Checking"
      ]
    },
    {
      "cell_type": "code",
      "metadata": {
        "id": "jGPCnS-Zu7xI"
      },
      "source": [
        "img_width, img_height = 150, 150\n",
        "train_data_dir = '/content/drive/Shareddrives/FP(DIU)/Tech Giant/Crop diseases Detection/CSE412 Pj/Data/train'\n",
        "validation_data_dir = '/content/drive/Shareddrives/FP(DIU)/Tech Giant/Crop diseases Detection/CSE412 Pj/Data/test'"
      ],
      "execution_count": null,
      "outputs": []
    },
    {
      "cell_type": "code",
      "metadata": {
        "id": "PBIj6vnwvbOP"
      },
      "source": [
        "def plots(ims, figsize=(12,6), rows=1, interp=False, titles=None):\n",
        "    if type(ims[0]) is np.ndarray:\n",
        "        ims = np.array(ims).astype(np.uint8)\n",
        "        if (ims.shape[-1] != 3):\n",
        "            ims = ims.transpose((0,2,3,1))\n",
        "    f = plt.figure(figsize=figsize)\n",
        "    for i in range(len(ims)):\n",
        "        sp = f.add_subplot(rows, len(ims)//rows, i+1)\n",
        "        if titles is not None:\n",
        "            sp.set_title(titles[i], fontsize=18)\n",
        "        plt.imshow(ims[i], interpolation=None if interp else 'none')"
      ],
      "execution_count": null,
      "outputs": []
    },
    {
      "cell_type": "code",
      "metadata": {
        "id": "X7XXzfTgvsM9"
      },
      "source": [
        "datagen = ImageDataGenerator()\n",
        "batches = datagen.flow_from_directory(\n",
        "        train_data_dir,\n",
        "        target_size=(img_width, img_height),\n",
        "        batch_size=4,\n",
        "        class_mode='binary')"
      ],
      "execution_count": null,
      "outputs": []
    },
    {
      "cell_type": "code",
      "metadata": {
        "id": "ruvBHSF-vzpN"
      },
      "source": [
        "imgs,labels = next(batches)\n",
        "plots(imgs, titles=labels)"
      ],
      "execution_count": null,
      "outputs": []
    },
    {
      "cell_type": "markdown",
      "metadata": {
        "id": "mhrgTrSws7Kk"
      },
      "source": [
        "##Data Preparation"
      ]
    },
    {
      "cell_type": "markdown",
      "metadata": {
        "id": "fMNv8pHwoKSr"
      },
      "source": [
        "###Generating Data"
      ]
    },
    {
      "cell_type": "code",
      "metadata": {
        "id": "_WLnAlqtqsgj"
      },
      "source": [
        "img_width, img_height = 512, 512\n",
        "train_data_dir = '/content/drive/Shareddrives/FP(DIU)/Tech Giant/Crop diseases Detection/CSE412 Pj/Data/train'\n",
        "validation_data_dir = '/content/drive/Shareddrives/FP(DIU)/Tech Giant/Crop diseases Detection/CSE412 Pj/Data/test'"
      ],
      "execution_count": null,
      "outputs": []
    },
    {
      "cell_type": "code",
      "metadata": {
        "id": "P3IO1HSBv-eK"
      },
      "source": [
        "datagen = ImageDataGenerator(rescale=1./2)\n",
        "\n",
        "train_generator = datagen.flow_from_directory(\n",
        "        train_data_dir,\n",
        "        target_size=(img_width, img_height),\n",
        "        batch_size=8,\n",
        "        class_mode='binary')\n",
        "\n",
        "validation_generator = datagen.flow_from_directory(\n",
        "        validation_data_dir,\n",
        "        target_size=(img_width, img_height),\n",
        "        batch_size=8,\n",
        "        class_mode='binary')"
      ],
      "execution_count": null,
      "outputs": []
    },
    {
      "cell_type": "markdown",
      "metadata": {
        "id": "T8yqJxqqoTlf"
      },
      "source": [
        "###Model Creation"
      ]
    },
    {
      "cell_type": "markdown",
      "metadata": {
        "id": "omIBIKlUDQd_"
      },
      "source": [
        "####Model v1"
      ]
    },
    {
      "cell_type": "code",
      "metadata": {
        "id": "_roDa9cvDPzI"
      },
      "source": [
        "model = Sequential()\n",
        "\n",
        "model.add(Convolution2D(32, (3, 3), input_shape=(img_width, img_height,3)))\n",
        "model.add(Activation('relu'))\n",
        "model.add(MaxPooling2D(pool_size=(2, 2), padding='same'))\n",
        "\n",
        "model.add(Convolution2D(32, (3, 3)))\n",
        "model.add(Activation('relu'))\n",
        "model.add(MaxPooling2D(pool_size=(2, 2), padding='same'))\n",
        "\n",
        "model.add(Convolution2D(64, (3, 3)))\n",
        "model.add(Activation('relu'))\n",
        "model.add(MaxPooling2D(pool_size=(2, 2), padding='same'))\n",
        "\n",
        "model.add(Flatten())\n",
        "model.add(Dense(64))\n",
        "model.add(Activation('relu'))\n",
        "model.add(Dropout(0.5))\n",
        "model.add(Dense(1))\n",
        "model.add(Activation('sigmoid'))"
      ],
      "execution_count": null,
      "outputs": []
    },
    {
      "cell_type": "markdown",
      "metadata": {
        "id": "DqvCwh-RDRBc"
      },
      "source": [
        "####Model v2"
      ]
    },
    {
      "cell_type": "code",
      "metadata": {
        "id": "3FeO-dIzwiwc"
      },
      "source": [
        "model = Sequential()\n",
        "\n",
        "model.add(Convolution2D(16, (3, 3), padding='same', input_shape=(img_width, img_height, 3), activation='relu'))\n",
        "model.add(MaxPooling2D(pool_size=(2, 2), padding='same'))\n",
        "\n",
        "model.add(Convolution2D(32, (3, 3), activation='relu', padding='same'))\n",
        "model.add(MaxPooling2D(pool_size=(2, 2), padding='same'))\n",
        "\n",
        "model.add(Convolution2D(64, (3, 3), activation='relu', padding='same'))\n",
        "model.add(MaxPooling2D(pool_size=(2, 2), padding='same'))\n",
        "\n",
        "model.add(Flatten())\n",
        "model.add(Dense(512, activation='relu'))\n",
        "model.add(Dropout(.5))\n",
        "\n",
        "model.add(Dense(64, activation='relu'))\n",
        "model.add(Dropout(.25))\n",
        "\n",
        "model.add(Dense(8, activation='relu'))\n",
        "\n",
        "model.add(Dense(1, activation='sigmoid'))"
      ],
      "execution_count": null,
      "outputs": []
    },
    {
      "cell_type": "markdown",
      "metadata": {
        "id": "X5rsYj8mocoa"
      },
      "source": [
        "###Model Training"
      ]
    },
    {
      "cell_type": "markdown",
      "metadata": {
        "id": "-JMCRpaa_bFE"
      },
      "source": [
        "####Adam"
      ]
    },
    {
      "cell_type": "code",
      "metadata": {
        "id": "kH7usLLW08-U"
      },
      "source": [
        "model.compile(loss='binary_crossentropy',\n",
        "              optimizer='adam',\n",
        "              metrics=['accuracy'])"
      ],
      "execution_count": null,
      "outputs": []
    },
    {
      "cell_type": "markdown",
      "metadata": {
        "id": "VkuSgmJN_fQn"
      },
      "source": [
        "####RMSprop"
      ]
    },
    {
      "cell_type": "code",
      "metadata": {
        "id": "tA5Am9K-wvgq"
      },
      "source": [
        "model.compile(loss='binary_crossentropy',\n",
        "              optimizer='rmsprop',\n",
        "              metrics=['accuracy'])"
      ],
      "execution_count": null,
      "outputs": []
    },
    {
      "cell_type": "markdown",
      "metadata": {
        "id": "l-MNfUlK_oEi"
      },
      "source": [
        "#### Model Fit"
      ]
    },
    {
      "cell_type": "code",
      "metadata": {
        "id": "1n4wAWk8xcHK"
      },
      "source": [
        "nb_epoch = 10\n",
        "nb_train_samples = 48\n",
        "nb_val_samples = 16"
      ],
      "execution_count": null,
      "outputs": []
    },
    {
      "cell_type": "code",
      "metadata": {
        "id": "y37FspPlx-I9"
      },
      "source": [
        "model.fit_generator(train_generator,\n",
        "                    steps_per_epoch=nb_train_samples,\n",
        "                    epochs=nb_epoch, \n",
        "                    validation_data=validation_generator, \n",
        "                    validation_steps=nb_val_samples)\n"
      ],
      "execution_count": null,
      "outputs": []
    },
    {
      "cell_type": "code",
      "metadata": {
        "id": "Fgv6B43lyfFh"
      },
      "source": [
        "model.save_weights('/content/drive/Shareddrives/FP(DIU)/Tech Giant/Crop diseases Detection/CSE412 Pj')"
      ],
      "execution_count": null,
      "outputs": []
    },
    {
      "cell_type": "code",
      "metadata": {
        "id": "Welup9gPkXbc"
      },
      "source": [
        "model.evaluate_generator(validation_generator, nb_val_samples)"
      ],
      "execution_count": null,
      "outputs": []
    },
    {
      "cell_type": "markdown",
      "metadata": {
        "id": "VaWoeiaBuShY"
      },
      "source": [
        "###Augmentation"
      ]
    },
    {
      "cell_type": "code",
      "metadata": {
        "id": "mKmFZjk-kdSl"
      },
      "source": [
        "train_datagen_augmented = ImageDataGenerator(\n",
        "    rescale=1./2,        # normalize pixel values to [0,1]\n",
        "    rotation_range=40,\n",
        "    width_shift_range=0.2,\n",
        "    height_shift_range=0.2,\n",
        "    shear_range=0.2,       # randomly applies shearing transformation\n",
        "    zoom_range=0.2,        # randomly applies shearing transformation\n",
        "    fill_mode='nearest',\n",
        "    horizontal_flip=True)  # randomly flip the images"
      ],
      "execution_count": null,
      "outputs": []
    },
    {
      "cell_type": "code",
      "metadata": {
        "id": "TPtESgCtuY-5"
      },
      "source": [
        "img = load_img('/content/drive/Shareddrives/FP(DIU)/Tech Giant/Crop diseases Detection/CSE412 Pj/Data/train/Banana/Banana_5.jpg')  # this is a PIL image\n",
        "x = img_to_array(img)  # this is a Numpy array with shape (3, 150, 150)\n",
        "x = x.reshape((1,) + x.shape)  # this is a Numpy array with shape (1, 3, 150, 150)\n",
        "\n",
        "# the .flow() command below generates batches of randomly transformed images\n",
        "# and saves the results to the `preview/` directory\n",
        "i = 0\n",
        "for batch in train_datagen_augmented.flow(x, batch_size=1):\n",
        "    i += 1\n",
        "    if i > 20:\n",
        "        break  # otherwise the generator would loop indefinitely"
      ],
      "execution_count": null,
      "outputs": []
    },
    {
      "cell_type": "code",
      "metadata": {
        "id": "9JWZ3JsrujNo"
      },
      "source": [
        "train_generator_augmented = train_datagen_augmented.flow_from_directory(\n",
        "        train_data_dir,\n",
        "        target_size=(img_width, img_height),\n",
        "        batch_size=8,\n",
        "        class_mode='binary')"
      ],
      "execution_count": null,
      "outputs": []
    },
    {
      "cell_type": "code",
      "metadata": {
        "id": "q0eLEfYTvPqr"
      },
      "source": [
        "model.fit_generator(train_generator_augmented,\n",
        "                    steps_per_epoch=nb_train_samples,\n",
        "                    epochs=nb_epoch, \n",
        "                    validation_data=validation_generator, \n",
        "                    validation_steps=nb_val_samples)"
      ],
      "execution_count": null,
      "outputs": []
    },
    {
      "cell_type": "code",
      "metadata": {
        "id": "8e7fCosxvVbw"
      },
      "source": [
        "model.save_weights('/content/drive/Shareddrives/FP(DIU)/Tech Giant/Crop diseases Detection/CSE412 Pj')"
      ],
      "execution_count": null,
      "outputs": []
    },
    {
      "cell_type": "code",
      "metadata": {
        "id": "RSu6TBjRvXe8"
      },
      "source": [
        "model.evaluate_generator(validation_generator, nb_val_samples)"
      ],
      "execution_count": null,
      "outputs": []
    },
    {
      "cell_type": "code",
      "metadata": {
        "id": "uGDpgBjKvaHa"
      },
      "source": [
        "model_vgg = Sequential()\n",
        "model_vgg.add(ZeroPadding2D((1, 1), input_shape=(img_width, img_height,3)))\n",
        "model_vgg.add(Convolution2D(64, (3, 3), activation='relu', name='conv1_1'))\n",
        "model_vgg.add(ZeroPadding2D((1, 1)))\n",
        "model_vgg.add(Convolution2D(64, (3, 3), activation='relu', name='conv1_2'))\n",
        "model_vgg.add(MaxPooling2D((2, 2), strides=(2, 2)))\n",
        "\n",
        "model_vgg.add(ZeroPadding2D((1, 1)))\n",
        "model_vgg.add(Convolution2D(128, (3, 3), activation='relu', name='conv2_1'))\n",
        "model_vgg.add(ZeroPadding2D((1, 1)))\n",
        "model_vgg.add(Convolution2D(128, (3, 3), activation='relu', name='conv2_2'))\n",
        "model_vgg.add(MaxPooling2D((2, 2), strides=(2, 2)))\n",
        "\n",
        "model_vgg.add(ZeroPadding2D((1, 1)))\n",
        "model_vgg.add(Convolution2D(256, (3, 3), activation='relu', name='conv3_1'))\n",
        "model_vgg.add(ZeroPadding2D((1, 1)))\n",
        "model_vgg.add(Convolution2D(256, (3, 3), activation='relu', name='conv3_2'))\n",
        "model_vgg.add(ZeroPadding2D((1, 1)))\n",
        "model_vgg.add(Convolution2D(256, (3, 3), activation='relu', name='conv3_3'))\n",
        "model_vgg.add(MaxPooling2D((2, 2), strides=(2, 2)))\n",
        "\n",
        "model_vgg.add(ZeroPadding2D((1, 1)))\n",
        "model_vgg.add(Convolution2D(512, (3, 3), activation='relu', name='conv4_1'))\n",
        "model_vgg.add(ZeroPadding2D((1, 1)))\n",
        "model_vgg.add(Convolution2D(512, (3, 3), activation='relu', name='conv4_2'))\n",
        "model_vgg.add(ZeroPadding2D((1, 1)))\n",
        "model_vgg.add(Convolution2D(512, (3, 3), activation='relu', name='conv4_3'))\n",
        "model_vgg.add(MaxPooling2D((2, 2), strides=(2, 2)))\n",
        "\n",
        "model_vgg.add(ZeroPadding2D((1, 1)))\n",
        "model_vgg.add(Convolution2D(512, (3, 3), activation='relu', name='conv5_1'))\n",
        "model_vgg.add(ZeroPadding2D((1, 1)))\n",
        "model_vgg.add(Convolution2D(512, (3, 3), activation='relu', name='conv5_2'))\n",
        "model_vgg.add(ZeroPadding2D((1, 1)))\n",
        "model_vgg.add(Convolution2D(512, (3, 3), activation='relu', name='conv5_3'))\n",
        "model_vgg.add(MaxPooling2D((2, 2), strides=(2, 2)))"
      ],
      "execution_count": null,
      "outputs": []
    },
    {
      "cell_type": "markdown",
      "metadata": {
        "id": "9nnjAQIpvzz2"
      },
      "source": [
        "###Load VGG16 weights"
      ]
    },
    {
      "cell_type": "code",
      "metadata": {
        "id": "RH82nnf-v2eQ"
      },
      "source": [
        "f = h5py.File('models/vgg16_weights.h5')\n",
        "for k in range(f.attrs['nb_layers']):\n",
        "    if k >= len(model_vgg.layers) - 1:\n",
        "        # we don't look at the last two layers in the savefile (fully-connected and activation)\n",
        "        break\n",
        "    g = f['layer_{}'.format(k)]\n",
        "    weights = [g['param_{}'.format(p)] for p in range(g.attrs['nb_params'])]\n",
        "    layer = model_vgg.layers[k]\n",
        "\n",
        "    if layer.__class__.__name__ in ['Convolution1D', 'Convolution2D', 'Convolution3D', 'AtrousConvolution2D']:\n",
        "        weights[0] = np.transpose(weights[0], (2, 3, 1, 0))\n",
        "\n",
        "    layer.set_weights(weights)\n",
        "\n",
        "f.close()"
      ],
      "execution_count": null,
      "outputs": []
    },
    {
      "cell_type": "code",
      "metadata": {
        "id": "ZRTwbKsHv4-J"
      },
      "source": [
        "train_generator_bottleneck = datagen.flow_from_directory(\n",
        "        train_data_dir,\n",
        "        target_size=(img_width, img_height),\n",
        "        batch_size=16,\n",
        "        class_mode=None,\n",
        "        shuffle=False)\n",
        "\n",
        "validation_generator_bottleneck = datagen.flow_from_directory(\n",
        "        validation_data_dir,\n",
        "        target_size=(img_width, img_height),\n",
        "        batch_size=16,\n",
        "        class_mode=None,\n",
        "        shuffle=False)"
      ],
      "execution_count": null,
      "outputs": []
    },
    {
      "cell_type": "code",
      "metadata": {
        "id": "qebLTyRvwHLS"
      },
      "source": [
        "bottleneck_features_train = model_vgg.predict_generator(train_generator_bottleneck, nb_train_samples)\n",
        "np.save(open('models/bottleneck_features_train.npy', 'wb'), bottleneck_features_train)"
      ],
      "execution_count": null,
      "outputs": []
    },
    {
      "cell_type": "code",
      "metadata": {
        "id": "maTefkEuwRpw"
      },
      "source": [
        "bottleneck_features_validation = model_vgg.predict_generator(validation_generator_bottleneck, nb_validation_samples)\n",
        "np.save(open('models/bottleneck_features_validation.npy', 'wb'), bottleneck_features_validation)"
      ],
      "execution_count": null,
      "outputs": []
    },
    {
      "cell_type": "code",
      "metadata": {
        "id": "zvmzGOUxwUVp"
      },
      "source": [
        "train_data = np.load(open('models/bottleneck_features_train.npy', 'rb'))\n",
        "# image numbers have to be even, otherwise occur error\n",
        "train_labels = np.array([0] * (nb_train_samples // 2) + [1] * (nb_train_samples // 2))\n",
        "\n",
        "validation_data = np.load(open('models/bottleneck_features_validation.npy', 'rb'))\n",
        "validation_labels = np.array([0] * (nb_validation_samples // 2) + [1] * (nb_validation_samples // 2))"
      ],
      "execution_count": null,
      "outputs": []
    },
    {
      "cell_type": "code",
      "metadata": {
        "id": "6FNQ53PfwYNh"
      },
      "source": [
        "model_top = Sequential()\n",
        "model_top.add(Flatten(input_shape=train_data.shape[1:]))\n",
        "model_top.add(Dense(256, activation='relu'))\n",
        "model_top.add(Dropout(0.5))\n",
        "model_top.add(Dense(1, activation='sigmoid'))\n",
        "\n",
        "model_top.compile(optimizer='rmsprop', loss='binary_crossentropy', metrics=['accuracy'])"
      ],
      "execution_count": null,
      "outputs": []
    },
    {
      "cell_type": "code",
      "metadata": {
        "id": "by3N9iDawttq"
      },
      "source": [
        "nb_epoch=20\n",
        "model_top.fit(train_data, train_labels,\n",
        "          nb_epoch=nb_epoch, batch_size=16,\n",
        "          validation_data=(validation_data, validation_labels))"
      ],
      "execution_count": null,
      "outputs": []
    },
    {
      "cell_type": "markdown",
      "metadata": {
        "id": "ag1tYI_Nxaer"
      },
      "source": [
        "###Fine-tuning the top layers of a a pre-trained network"
      ]
    },
    {
      "cell_type": "code",
      "metadata": {
        "id": "8hi6ANPtxaCZ"
      },
      "source": [
        "model_vgg = Sequential()\n",
        "model_vgg.add(ZeroPadding2D((1, 1), input_shape=(img_width, img_height,3)))\n",
        "model_vgg.add(Convolution2D(64, 3, 3, activation='relu', name='conv1_1'))\n",
        "model_vgg.add(ZeroPadding2D((1, 1)))\n",
        "model_vgg.add(Convolution2D(64, 3, 3, activation='relu', name='conv1_2'))\n",
        "model_vgg.add(MaxPooling2D((2, 2), strides=(2, 2)))\n",
        "\n",
        "model_vgg.add(ZeroPadding2D((1, 1)))\n",
        "model_vgg.add(Convolution2D(128, 3, 3, activation='relu', name='conv2_1'))\n",
        "model_vgg.add(ZeroPadding2D((1, 1)))\n",
        "model_vgg.add(Convolution2D(128, 3, 3, activation='relu', name='conv2_2'))\n",
        "model_vgg.add(MaxPooling2D((2, 2), strides=(2, 2)))\n",
        "\n",
        "model_vgg.add(ZeroPadding2D((1, 1)))\n",
        "model_vgg.add(Convolution2D(256, 3, 3, activation='relu', name='conv3_1'))\n",
        "model_vgg.add(ZeroPadding2D((1, 1)))\n",
        "model_vgg.add(Convolution2D(256, 3, 3, activation='relu', name='conv3_2'))\n",
        "model_vgg.add(ZeroPadding2D((1, 1)))\n",
        "model_vgg.add(Convolution2D(256, 3, 3, activation='relu', name='conv3_3'))\n",
        "model_vgg.add(MaxPooling2D((2, 2), strides=(2, 2)))\n",
        "\n",
        "model_vgg.add(ZeroPadding2D((1, 1)))\n",
        "model_vgg.add(Convolution2D(512, 3, 3, activation='relu', name='conv4_1'))\n",
        "model_vgg.add(ZeroPadding2D((1, 1)))\n",
        "model_vgg.add(Convolution2D(512, 3, 3, activation='relu', name='conv4_2'))\n",
        "model_vgg.add(ZeroPadding2D((1, 1)))\n",
        "model_vgg.add(Convolution2D(512, 3, 3, activation='relu', name='conv4_3'))\n",
        "model_vgg.add(MaxPooling2D((2, 2), strides=(2, 2)))\n",
        "\n",
        "model_vgg.add(ZeroPadding2D((1, 1)))\n",
        "model_vgg.add(Convolution2D(512, 3, 3, activation='relu', name='conv5_1'))\n",
        "model_vgg.add(ZeroPadding2D((1, 1)))\n",
        "model_vgg.add(Convolution2D(512, 3, 3, activation='relu', name='conv5_2'))\n",
        "model_vgg.add(ZeroPadding2D((1, 1)))\n",
        "model_vgg.add(Convolution2D(512, 3, 3, activation='relu', name='conv5_3'))\n",
        "model_vgg.add(MaxPooling2D((2, 2), strides=(2, 2)))"
      ],
      "execution_count": null,
      "outputs": []
    },
    {
      "cell_type": "code",
      "metadata": {
        "id": "Q3qNLcEBxeXa"
      },
      "source": [
        "f = h5py.File('models/vgg16_weights.h5')\n",
        "for k in range(f.attrs['nb_layers']):\n",
        "    if k >= len(model_vgg.layers) - 1:\n",
        "        # we don't look at the last two layers in the savefile (fully-connected and activation)\n",
        "        break\n",
        "    g = f['layer_{}'.format(k)]\n",
        "    weights = [g['param_{}'.format(p)] for p in range(g.attrs['nb_params'])]\n",
        "    layer = model_vgg.layers[k]\n",
        "\n",
        "    if layer.__class__.__name__ in ['Convolution1D', 'Convolution2D', 'Convolution3D', 'AtrousConvolution2D']:\n",
        "        weights[0] = np.transpose(weights[0], (2, 3, 1, 0))\n",
        "\n",
        "    layer.set_weights(weights)\n",
        "\n",
        "f.close()"
      ],
      "execution_count": null,
      "outputs": []
    },
    {
      "cell_type": "code",
      "metadata": {
        "id": "lbbBQ6kbyXrP"
      },
      "source": [
        "top_model = Sequential()\n",
        "top_model.add(Flatten(input_shape=model_vgg.output_shape[1:]))\n",
        "top_model.add(Dense(256, activation='relu'))\n",
        "top_model.add(Dropout(0.5))\n",
        "top_model.add(Dense(1, activation='sigmoid'))\n",
        "\n",
        "top_model.load_weights('models/bottleneck_20_epochs.h5')\n",
        "\n",
        "model_vgg.add(top_model)"
      ],
      "execution_count": null,
      "outputs": []
    },
    {
      "cell_type": "code",
      "metadata": {
        "id": "EpEuKSp0yi4o"
      },
      "source": [
        "for layer in model_vgg.layers[:25]:\n",
        "    layer.trainable = False"
      ],
      "execution_count": null,
      "outputs": []
    },
    {
      "cell_type": "code",
      "metadata": {
        "id": "MsV8WDCmyk04"
      },
      "source": [
        "# compile the model with a SGD/momentum optimizer\n",
        "# and a very slow learning rate.\n",
        "model_vgg.compile(loss='binary_crossentropy',\n",
        "              optimizer=optimizers.SGD(lr=1e-4, momentum=0.9),\n",
        "              metrics=['accuracy'])"
      ],
      "execution_count": null,
      "outputs": []
    },
    {
      "cell_type": "code",
      "metadata": {
        "id": "C9Y6RBcfynKh"
      },
      "source": [
        "train_datagen = ImageDataGenerator(\n",
        "        rescale=1./255,\n",
        "        shear_range=0.2,\n",
        "        zoom_range=0.2,\n",
        "        horizontal_flip=True)\n",
        "\n",
        "test_datagen = ImageDataGenerator(rescale=1./255)\n",
        "\n",
        "train_generator = train_datagen.flow_from_directory(\n",
        "        train_data_dir,\n",
        "        target_size=(img_height, img_width),\n",
        "        batch_size=16,\n",
        "        class_mode='binary')\n",
        "\n",
        "validation_generator = test_datagen.flow_from_directory(\n",
        "        validation_data_dir,\n",
        "        target_size=(img_height, img_width),\n",
        "        batch_size=16,\n",
        "        class_mode='binary')"
      ],
      "execution_count": null,
      "outputs": []
    },
    {
      "cell_type": "code",
      "metadata": {
        "id": "7N3JaTGSyo_P"
      },
      "source": [
        "# fine-tune the model\n",
        "model_vgg.fit_generator(\n",
        "        train_generator,\n",
        "        samples_per_epoch=nb_train_samples,\n",
        "        nb_epoch=10,\n",
        "        validation_data=validation_generator,\n",
        "        nb_val_samples=nb_validation_samples)"
      ],
      "execution_count": null,
      "outputs": []
    },
    {
      "cell_type": "code",
      "metadata": {
        "id": "y7avt39xy3uX"
      },
      "source": [
        "model_vgg.evaluate_generator(validation_generator, nb_validation_samples)"
      ],
      "execution_count": null,
      "outputs": []
    },
    {
      "cell_type": "markdown",
      "metadata": {
        "id": "wgT-HC1Xy75h"
      },
      "source": [
        "###Summary"
      ]
    },
    {
      "cell_type": "code",
      "metadata": {
        "id": "U_pEgdkszEQg"
      },
      "source": [
        "imgs = ImageDataGenerator()\n",
        "\n",
        "batches = imgs.flow_from_directory(\n",
        "        'data/test/',\n",
        "        target_size=(img_width, img_height),\n",
        "        shuffle=False,\n",
        "        batch_size=4,\n",
        "        class_mode=None)"
      ],
      "execution_count": null,
      "outputs": []
    },
    {
      "cell_type": "code",
      "metadata": {
        "id": "-tATuinIzV0Z"
      },
      "source": [
        "filenames = batches.filenames\n",
        "filenames"
      ],
      "execution_count": null,
      "outputs": []
    },
    {
      "cell_type": "code",
      "metadata": {
        "id": "S5Yatw4OzbOw"
      },
      "source": [
        "probs = model.predict_generator(batches, batches.nb_sample)\n",
        "probs"
      ],
      "execution_count": null,
      "outputs": []
    },
    {
      "cell_type": "code",
      "metadata": {
        "id": "xT4Kfaflzuuz"
      },
      "source": [
        "plots([image.load_img('data/test/' + filenames[i]) for i in range(8)], figsize=(16,6), rows=2, titles=probs)"
      ],
      "execution_count": null,
      "outputs": []
    }
  ]
}