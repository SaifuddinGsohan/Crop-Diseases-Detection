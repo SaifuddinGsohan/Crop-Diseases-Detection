
from google.colab import driv
drive.mount('/content/drive')

